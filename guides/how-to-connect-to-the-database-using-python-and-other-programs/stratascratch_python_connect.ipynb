{
 "cells": [
  {
   "cell_type": "markdown",
   "metadata": {},
   "source": [
    "# Strata Scratch\n",
    "\n",
    "## Making Database calls with Strata Scratch\n",
    "\n",
    "- Strata Scratch has a postgres backend, therefore the psycopgy2 library must be installed and imported before you can make database calls directly in python. \n",
    "- Otherwise, you can always use SQL LAB in Strata Scratch and export your data pulls as an CSV file, then import the file using pandas.\n",
    "\n",
    "Here's some code to make database calls to Strata Scratch"
   ]
  },
  {
   "cell_type": "code",
   "execution_count": null,
   "metadata": {
    "collapsed": true
   },
   "outputs": [],
   "source": [
    "import pandas as pd\n",
    "import psycopg2 as ps"
   ]
  },
  {
   "cell_type": "code",
   "execution_count": null,
   "metadata": {
    "collapsed": true
   },
   "outputs": [],
   "source": [
    "host_name = 'db-strata.stratascratch.com'\n",
    "dbname = 'db_strata'\n",
    "user_name = '' #enter username and password from profile tab in Strata Scratch\n",
    "pwd = ''\n",
    "port = '5432'"
   ]
  },
  {
   "cell_type": "code",
   "execution_count": null,
   "metadata": {},
   "outputs": [],
   "source": [
    "try:\n",
    "    conn = ps.connect(host=host_name,database=dbname,user=user_name,password=pwd,port=port)\n",
    "except ps.OperationalError as e:\n",
    "    raise e\n",
    "else:\n",
    "    print('Connected!')"
   ]
  },
  {
   "cell_type": "code",
   "execution_count": null,
   "metadata": {},
   "outputs": [],
   "source": [
    "#Make the database call\n",
    "cur = conn.cursor()\n",
    "cur.execute(\"\"\" \n",
    "            SELECT *  FROM datasets.titanic; \n",
    "            \"\"\")\n",
    "df = cur.fetchall()\n",
    "colnames = [desc[0] for desc in cur.description] #grab the column names\n",
    "conn.commit()\n",
    "\n",
    "#create the dataframe\n",
    "df=pd.DataFrame(df)\n",
    "df.columns = colnames\n",
    "\n",
    "#close the connection\n",
    "cur.close()"
   ]
  }
 ],
 "metadata": {
  "kernelspec": {
   "display_name": "Python 3",
   "language": "python",
   "name": "python3"
  },
  "language_info": {
   "codemirror_mode": {
    "name": "ipython",
    "version": 3
   },
   "file_extension": ".py",
   "mimetype": "text/x-python",
   "name": "python",
   "nbconvert_exporter": "python",
   "pygments_lexer": "ipython3",
   "version": "3.6.3"
  }
 },
 "nbformat": 4,
 "nbformat_minor": 2
}
