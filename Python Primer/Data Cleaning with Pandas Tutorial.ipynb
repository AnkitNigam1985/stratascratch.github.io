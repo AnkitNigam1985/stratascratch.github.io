{
 "cells": [
  {
   "cell_type": "markdown",
   "metadata": {},
   "source": [
    "# Strata Scratch\n",
    "\n",
    "## Data Cleaning with Pandas Solutions\n",
    "\n",
    "#### Topics\n",
    "- Missing Values\n",
    "    - Identify Missing Values\n",
    "    - Drop Values\n",
    "    - Impute Values \n",
    "        - Zero \n",
    "        - Mean\n",
    "- Categorical Data \n",
    "    - Convert Text to Numbers \n",
    "    - Encode Labels as Boolean Variables "
   ]
  },
  {
   "cell_type": "markdown",
   "metadata": {},
   "source": [
    "Import pandas"
   ]
  },
  {
   "cell_type": "code",
   "execution_count": null,
   "metadata": {
    "collapsed": true
   },
   "outputs": [],
   "source": [
    "import pandas as pd\n",
    "import psycopg2 as ps"
   ]
  },
  {
   "cell_type": "code",
   "execution_count": null,
   "metadata": {
    "collapsed": true
   },
   "outputs": [],
   "source": [
    "host_name = 'db-strata.stratascratch.com'\n",
    "dbname = 'db_strata'\n",
    "user_name = '' #enter username and password from profile tab in Strata Scratch\n",
    "pwd = ''\n",
    "port = '5432'\n",
    "\n",
    "try:\n",
    "    conn = ps.connect(host=host_name,database=dbname,user=user_name,password=pwd,port=port)\n",
    "except ps.OperationalError as e:\n",
    "    raise e\n",
    "else:\n",
    "    print('Connected!')"
   ]
  },
  {
   "cell_type": "markdown",
   "metadata": {},
   "source": [
    "Pull data from the combine table or read the combine.csv file as a DataFrame and investigate the contents"
   ]
  },
  {
   "cell_type": "code",
   "execution_count": null,
   "metadata": {
    "collapsed": true
   },
   "outputs": [],
   "source": [
    "#Make the database call\n",
    "cur = conn.cursor()\n",
    "cur.execute(\"\"\" \n",
    "            SELECT *  FROM datasets.combine; \n",
    "            \"\"\")\n",
    "data = cur.fetchall()\n",
    "colnames = [desc[0] for desc in cur.description] #grab the column names\n",
    "conn.commit()\n",
    "\n",
    "#create the dataframe\n",
    "data = pd.DataFrame(df)\n",
    "data.columns = colnames\n",
    "\n",
    "#close the connection\n",
    "cur.close()"
   ]
  },
  {
   "cell_type": "code",
   "execution_count": null,
   "metadata": {
    "collapsed": true
   },
   "outputs": [],
   "source": [
    "data = pd.read_csv('combine.csv')"
   ]
  },
  {
   "cell_type": "code",
   "execution_count": null,
   "metadata": {
    "collapsed": true
   },
   "outputs": [],
   "source": [
    "print(data.head())\n",
    "print(data.info())\n",
    "print(data.describe())"
   ]
  },
  {
   "cell_type": "markdown",
   "metadata": {},
   "source": [
    "Fill missing values for college with 'No College'\n",
    "\n",
    "- https://pandas.pydata.org/pandas-docs/stable/generated/pandas.DataFrame.fillna.html"
   ]
  },
  {
   "cell_type": "code",
   "execution_count": null,
   "metadata": {
    "collapsed": true
   },
   "outputs": [],
   "source": [
    "data.fillna(value='No College', inplace=True)"
   ]
  },
  {
   "cell_type": "markdown",
   "metadata": {},
   "source": [
    "Remove the players that have null values for the pick"
   ]
  },
  {
   "cell_type": "code",
   "execution_count": null,
   "metadata": {
    "collapsed": true
   },
   "outputs": [],
   "source": [
    "data_dropped = data.dropna(how='any', subset=['pick'])\n",
    "\n",
    "print(data_dropped)"
   ]
  },
  {
   "cell_type": "markdown",
   "metadata": {},
   "source": [
    "Investigate the unique values in the position column"
   ]
  },
  {
   "cell_type": "code",
   "execution_count": null,
   "metadata": {
    "collapsed": true
   },
   "outputs": [],
   "source": [
    "data.keys()\n",
    "data['position'].unique()\n",
    "data.position.unique()"
   ]
  },
  {
   "cell_type": "markdown",
   "metadata": {},
   "source": [
    "Replace RB and QB with Running Back and Quarterback\n",
    "\n",
    "- https://pandas.pydata.org/pandas-docs/stable/generated/pandas.DataFrame.replace.html"
   ]
  },
  {
   "cell_type": "code",
   "execution_count": null,
   "metadata": {
    "collapsed": true
   },
   "outputs": [],
   "source": [
    "data.position.replace(to_replace=['RB','QB'],value=['Running Back','Quarterback'], inplace=True)\n",
    "\n",
    "data.head()"
   ]
  },
  {
   "cell_type": "markdown",
   "metadata": {},
   "source": [
    "Create dummy values for position\n",
    "\n",
    "- https://pandas.pydata.org/pandas-docs/stable/generated/pandas.get_dummies.html"
   ]
  },
  {
   "cell_type": "code",
   "execution_count": null,
   "metadata": {
    "collapsed": true
   },
   "outputs": [],
   "source": [
    "dummy_data = pd.get_dummies(data.position, prefix='Pos')\n",
    "\n",
    "dummy_data.head()"
   ]
  },
  {
   "cell_type": "markdown",
   "metadata": {},
   "source": [
    "Merge the dummy data with the original data set\n",
    "\n",
    "- https://pandas.pydata.org/pandas-docs/stable/generated/pandas.DataFrame.merge.html"
   ]
  },
  {
   "cell_type": "code",
   "execution_count": null,
   "metadata": {
    "collapsed": true
   },
   "outputs": [],
   "source": [
    "data.merge(dummy_data, how='inner', left_index=True, right_index=True) "
   ]
  },
  {
   "cell_type": "markdown",
   "metadata": {},
   "source": [
    "Convert weight from lbs to kg"
   ]
  },
  {
   "cell_type": "code",
   "execution_count": null,
   "metadata": {
    "collapsed": true,
    "scrolled": true
   },
   "outputs": [],
   "source": [
    "data['weight_kg'] = data.weight/2.2\n",
    "data.head()"
   ]
  },
  {
   "cell_type": "markdown",
   "metadata": {},
   "source": [
    "Capitalize name\n",
    "\n",
    "- https://pandas.pydata.org/pandas-docs/stable/generated/pandas.DataFrame.apply.html"
   ]
  },
  {
   "cell_type": "code",
   "execution_count": null,
   "metadata": {
    "collapsed": true
   },
   "outputs": [],
   "source": [
    "# need the apply function if you're doing an operation on a column. Python doens't know to apply it to the entire dataset.\n",
    "# str function (str.upper) understands how to apply to each element\n",
    "\n",
    "data.name.apply(str.upper).head()\n",
    "\n",
    "\n",
    "#axis = 1 means to apply function across row\n",
    "#axis = 0 means to apply function across column"
   ]
  },
  {
   "cell_type": "markdown",
   "metadata": {},
   "source": [
    "Reverse order of first and last name\n",
    "\n",
    "... and introducing lambda functions"
   ]
  },
  {
   "cell_type": "code",
   "execution_count": null,
   "metadata": {
    "collapsed": true
   },
   "outputs": [],
   "source": [
    "data['lastfirstname'] = data.apply(lambda x:'{0},{1}'.format(x['lastname'], x['firstname']), axis=1).head()"
   ]
  }
 ],
 "metadata": {
  "anaconda-cloud": {},
  "kernelspec": {
   "display_name": "Python 3",
   "language": "python",
   "name": "python3"
  },
  "language_info": {
   "codemirror_mode": {
    "name": "ipython",
    "version": 3
   },
   "file_extension": ".py",
   "mimetype": "text/x-python",
   "name": "python",
   "nbconvert_exporter": "python",
   "pygments_lexer": "ipython3",
   "version": "3.6.3"
  }
 },
 "nbformat": 4,
 "nbformat_minor": 1
}
